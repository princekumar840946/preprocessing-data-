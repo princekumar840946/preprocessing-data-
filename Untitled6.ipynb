{
  "nbformat": 4,
  "nbformat_minor": 0,
  "metadata": {
    "colab": {
      "name": "Untitled6.ipynb",
      "provenance": []
    },
    "kernelspec": {
      "name": "python3",
      "display_name": "Python 3"
    }
  },
  "cells": [
    {
      "cell_type": "code",
      "metadata": {
        "id": "op_zwO_qut1x",
        "colab_type": "code",
        "colab": {
          "base_uri": "https://localhost:8080/",
          "height": 104
        },
        "outputId": "373f407e-f642-4a65-9259-3a71053182de"
      },
      "source": [
        "#program for rock,paper and scissor game\n",
        "\"\"\"rock wins over scissor\n",
        "scissor wins over paper\n",
        "paper wins over rock\"\"\"\n",
        "#taking the input for this game\n",
        "user1=input(\"what is your Name? \")\n",
        "user2=input(\"and your Name? \")\n",
        "user1_answer=input(\"%s,what you want to choose from rock,scissor or paper \"%user1)\n",
        "user2_answer=input(\"%s,what you want to choose from rock,scissor or paper \"%user2)\n",
        "\n",
        "#writing a function for this Game:\n",
        "\n",
        "def comparison(u1,u2):\n",
        "  if u1==u2:\n",
        "    return (\"its a tie\")\n",
        "  elif u1==\"rock\":\n",
        "    if u2==\"scissor\":\n",
        "      return(\"Rock wins\")\n",
        "    else:\n",
        "      return(\"paper wins\")\n",
        "  elif u1==\"scissor\":\n",
        "    if u2==\"paper\":\n",
        "      return(\"scissor wins\")\n",
        "    else:\n",
        "      return(\"rock wins\")\n",
        "  elif u1==\"paper\":\n",
        "    if u2==\"rock\":\n",
        "      return(\"paper wins\")\n",
        "    else:\n",
        "      return(\"scissor wins\")\n",
        "  else:\n",
        "    return(\"Invalid Input!Please choose from rock,scissor,paper\")\n",
        "print(comparison(user1_answer,user2_answer))\n"
      ],
      "execution_count": 4,
      "outputs": [
        {
          "output_type": "stream",
          "text": [
            "what is your Name? prince\n",
            "and your Name? kumaar\n",
            "prince,what you want to choose from rock,scissor or paper paper\n",
            "kumaar,what you want to choose from rock,scissor or paper scissor\n",
            "scissor wins\n"
          ],
          "name": "stdout"
        }
      ]
    },
    {
      "cell_type": "code",
      "metadata": {
        "id": "iyjaXNHSwquV",
        "colab_type": "code",
        "colab": {}
      },
      "source": [
        ""
      ],
      "execution_count": 0,
      "outputs": []
    }
  ]
}